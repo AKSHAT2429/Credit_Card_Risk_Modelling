{
 "cells": [
  {
   "cell_type": "markdown",
   "metadata": {
    "papermill": {
     "duration": 0.009495,
     "end_time": "2023-10-26T03:03:14.179508",
     "exception": false,
     "start_time": "2023-10-26T03:03:14.170013",
     "status": "completed"
    },
    "tags": []
   },
   "source": [
    "# Credit Card Fraud Detection - Logistic Regression"
   ]
  },
  {
   "cell_type": "markdown",
   "metadata": {
    "id": "TDnoEQTWStTz",
    "papermill": {
     "duration": 0.008405,
     "end_time": "2023-10-26T03:03:14.196774",
     "exception": false,
     "start_time": "2023-10-26T03:03:14.188369",
     "status": "completed"
    },
    "tags": []
   },
   "source": [
    "### Importing the Dependencies"
   ]
  },
  {
   "cell_type": "code",
   "execution_count": 42,
   "metadata": {
    "execution": {
     "iopub.execute_input": "2023-10-26T03:03:14.217884Z",
     "iopub.status.busy": "2023-10-26T03:03:14.217043Z",
     "iopub.status.idle": "2023-10-26T03:03:16.026086Z",
     "shell.execute_reply": "2023-10-26T03:03:16.025016Z"
    },
    "id": "hlNfrSC1PGfZ",
    "papermill": {
     "duration": 1.823537,
     "end_time": "2023-10-26T03:03:16.029015",
     "exception": false,
     "start_time": "2023-10-26T03:03:14.205478",
     "status": "completed"
    },
    "tags": []
   },
   "outputs": [],
   "source": [
    "import numpy as np\n",
    "import pandas as pd\n",
    "from sklearn.model_selection import train_test_split\n",
    "from sklearn.linear_model import LogisticRegression\n",
    "from sklearn.metrics import accuracy_score\n",
    "from sklearn.tree import DecisionTreeClassifier\n",
    "from sklearn.model_selection import cross_validate, StratifiedKFold\n",
    "from sklearn.metrics import roc_auc_score, average_precision_score"
   ]
  },
  {
   "cell_type": "code",
   "execution_count": 2,
   "metadata": {
    "execution": {
     "iopub.execute_input": "2023-10-26T03:03:16.048683Z",
     "iopub.status.busy": "2023-10-26T03:03:16.048115Z",
     "iopub.status.idle": "2023-10-26T03:03:20.277324Z",
     "shell.execute_reply": "2023-10-26T03:03:20.276073Z"
    },
    "id": "W0CTsNioTKnJ",
    "papermill": {
     "duration": 4.241967,
     "end_time": "2023-10-26T03:03:20.279879",
     "exception": false,
     "start_time": "2023-10-26T03:03:16.037912",
     "status": "completed"
    },
    "tags": []
   },
   "outputs": [],
   "source": [
    "# loading the dataset to a Pandas DataFrame\n",
    "credit_card_data = pd.read_csv('creditcard.csv')"
   ]
  },
  {
   "cell_type": "code",
   "execution_count": 3,
   "metadata": {
    "execution": {
     "iopub.execute_input": "2023-10-26T03:03:20.299212Z",
     "iopub.status.busy": "2023-10-26T03:03:20.298791Z",
     "iopub.status.idle": "2023-10-26T03:03:20.337819Z",
     "shell.execute_reply": "2023-10-26T03:03:20.336831Z"
    },
    "id": "o_iMfyHsTa6s",
    "outputId": "318bdb4d-9f20-4789-c6e6-9b2de1aad091",
    "papermill": {
     "duration": 0.05179,
     "end_time": "2023-10-26T03:03:20.340610",
     "exception": false,
     "start_time": "2023-10-26T03:03:20.288820",
     "status": "completed"
    },
    "tags": []
   },
   "outputs": [
    {
     "data": {
      "text/html": [
       "<div>\n",
       "<style scoped>\n",
       "    .dataframe tbody tr th:only-of-type {\n",
       "        vertical-align: middle;\n",
       "    }\n",
       "\n",
       "    .dataframe tbody tr th {\n",
       "        vertical-align: top;\n",
       "    }\n",
       "\n",
       "    .dataframe thead th {\n",
       "        text-align: right;\n",
       "    }\n",
       "</style>\n",
       "<table border=\"1\" class=\"dataframe\">\n",
       "  <thead>\n",
       "    <tr style=\"text-align: right;\">\n",
       "      <th></th>\n",
       "      <th>Time</th>\n",
       "      <th>V1</th>\n",
       "      <th>V2</th>\n",
       "      <th>V3</th>\n",
       "      <th>V4</th>\n",
       "      <th>V5</th>\n",
       "      <th>V6</th>\n",
       "      <th>V7</th>\n",
       "      <th>V8</th>\n",
       "      <th>V9</th>\n",
       "      <th>...</th>\n",
       "      <th>V21</th>\n",
       "      <th>V22</th>\n",
       "      <th>V23</th>\n",
       "      <th>V24</th>\n",
       "      <th>V25</th>\n",
       "      <th>V26</th>\n",
       "      <th>V27</th>\n",
       "      <th>V28</th>\n",
       "      <th>Amount</th>\n",
       "      <th>Class</th>\n",
       "    </tr>\n",
       "  </thead>\n",
       "  <tbody>\n",
       "    <tr>\n",
       "      <th>0</th>\n",
       "      <td>0.0</td>\n",
       "      <td>-1.359807</td>\n",
       "      <td>-0.072781</td>\n",
       "      <td>2.536347</td>\n",
       "      <td>1.378155</td>\n",
       "      <td>-0.338321</td>\n",
       "      <td>0.462388</td>\n",
       "      <td>0.239599</td>\n",
       "      <td>0.098698</td>\n",
       "      <td>0.363787</td>\n",
       "      <td>...</td>\n",
       "      <td>-0.018307</td>\n",
       "      <td>0.277838</td>\n",
       "      <td>-0.110474</td>\n",
       "      <td>0.066928</td>\n",
       "      <td>0.128539</td>\n",
       "      <td>-0.189115</td>\n",
       "      <td>0.133558</td>\n",
       "      <td>-0.021053</td>\n",
       "      <td>149.62</td>\n",
       "      <td>0</td>\n",
       "    </tr>\n",
       "    <tr>\n",
       "      <th>1</th>\n",
       "      <td>0.0</td>\n",
       "      <td>1.191857</td>\n",
       "      <td>0.266151</td>\n",
       "      <td>0.166480</td>\n",
       "      <td>0.448154</td>\n",
       "      <td>0.060018</td>\n",
       "      <td>-0.082361</td>\n",
       "      <td>-0.078803</td>\n",
       "      <td>0.085102</td>\n",
       "      <td>-0.255425</td>\n",
       "      <td>...</td>\n",
       "      <td>-0.225775</td>\n",
       "      <td>-0.638672</td>\n",
       "      <td>0.101288</td>\n",
       "      <td>-0.339846</td>\n",
       "      <td>0.167170</td>\n",
       "      <td>0.125895</td>\n",
       "      <td>-0.008983</td>\n",
       "      <td>0.014724</td>\n",
       "      <td>2.69</td>\n",
       "      <td>0</td>\n",
       "    </tr>\n",
       "    <tr>\n",
       "      <th>2</th>\n",
       "      <td>1.0</td>\n",
       "      <td>-1.358354</td>\n",
       "      <td>-1.340163</td>\n",
       "      <td>1.773209</td>\n",
       "      <td>0.379780</td>\n",
       "      <td>-0.503198</td>\n",
       "      <td>1.800499</td>\n",
       "      <td>0.791461</td>\n",
       "      <td>0.247676</td>\n",
       "      <td>-1.514654</td>\n",
       "      <td>...</td>\n",
       "      <td>0.247998</td>\n",
       "      <td>0.771679</td>\n",
       "      <td>0.909412</td>\n",
       "      <td>-0.689281</td>\n",
       "      <td>-0.327642</td>\n",
       "      <td>-0.139097</td>\n",
       "      <td>-0.055353</td>\n",
       "      <td>-0.059752</td>\n",
       "      <td>378.66</td>\n",
       "      <td>0</td>\n",
       "    </tr>\n",
       "    <tr>\n",
       "      <th>3</th>\n",
       "      <td>1.0</td>\n",
       "      <td>-0.966272</td>\n",
       "      <td>-0.185226</td>\n",
       "      <td>1.792993</td>\n",
       "      <td>-0.863291</td>\n",
       "      <td>-0.010309</td>\n",
       "      <td>1.247203</td>\n",
       "      <td>0.237609</td>\n",
       "      <td>0.377436</td>\n",
       "      <td>-1.387024</td>\n",
       "      <td>...</td>\n",
       "      <td>-0.108300</td>\n",
       "      <td>0.005274</td>\n",
       "      <td>-0.190321</td>\n",
       "      <td>-1.175575</td>\n",
       "      <td>0.647376</td>\n",
       "      <td>-0.221929</td>\n",
       "      <td>0.062723</td>\n",
       "      <td>0.061458</td>\n",
       "      <td>123.50</td>\n",
       "      <td>0</td>\n",
       "    </tr>\n",
       "    <tr>\n",
       "      <th>4</th>\n",
       "      <td>2.0</td>\n",
       "      <td>-1.158233</td>\n",
       "      <td>0.877737</td>\n",
       "      <td>1.548718</td>\n",
       "      <td>0.403034</td>\n",
       "      <td>-0.407193</td>\n",
       "      <td>0.095921</td>\n",
       "      <td>0.592941</td>\n",
       "      <td>-0.270533</td>\n",
       "      <td>0.817739</td>\n",
       "      <td>...</td>\n",
       "      <td>-0.009431</td>\n",
       "      <td>0.798278</td>\n",
       "      <td>-0.137458</td>\n",
       "      <td>0.141267</td>\n",
       "      <td>-0.206010</td>\n",
       "      <td>0.502292</td>\n",
       "      <td>0.219422</td>\n",
       "      <td>0.215153</td>\n",
       "      <td>69.99</td>\n",
       "      <td>0</td>\n",
       "    </tr>\n",
       "  </tbody>\n",
       "</table>\n",
       "<p>5 rows × 31 columns</p>\n",
       "</div>"
      ],
      "text/plain": [
       "   Time        V1        V2        V3        V4        V5        V6        V7  \\\n",
       "0   0.0 -1.359807 -0.072781  2.536347  1.378155 -0.338321  0.462388  0.239599   \n",
       "1   0.0  1.191857  0.266151  0.166480  0.448154  0.060018 -0.082361 -0.078803   \n",
       "2   1.0 -1.358354 -1.340163  1.773209  0.379780 -0.503198  1.800499  0.791461   \n",
       "3   1.0 -0.966272 -0.185226  1.792993 -0.863291 -0.010309  1.247203  0.237609   \n",
       "4   2.0 -1.158233  0.877737  1.548718  0.403034 -0.407193  0.095921  0.592941   \n",
       "\n",
       "         V8        V9  ...       V21       V22       V23       V24       V25  \\\n",
       "0  0.098698  0.363787  ... -0.018307  0.277838 -0.110474  0.066928  0.128539   \n",
       "1  0.085102 -0.255425  ... -0.225775 -0.638672  0.101288 -0.339846  0.167170   \n",
       "2  0.247676 -1.514654  ...  0.247998  0.771679  0.909412 -0.689281 -0.327642   \n",
       "3  0.377436 -1.387024  ... -0.108300  0.005274 -0.190321 -1.175575  0.647376   \n",
       "4 -0.270533  0.817739  ... -0.009431  0.798278 -0.137458  0.141267 -0.206010   \n",
       "\n",
       "        V26       V27       V28  Amount  Class  \n",
       "0 -0.189115  0.133558 -0.021053  149.62      0  \n",
       "1  0.125895 -0.008983  0.014724    2.69      0  \n",
       "2 -0.139097 -0.055353 -0.059752  378.66      0  \n",
       "3 -0.221929  0.062723  0.061458  123.50      0  \n",
       "4  0.502292  0.219422  0.215153   69.99      0  \n",
       "\n",
       "[5 rows x 31 columns]"
      ]
     },
     "execution_count": 3,
     "metadata": {},
     "output_type": "execute_result"
    }
   ],
   "source": [
    "# first 5 rows of the dataset\n",
    "credit_card_data.head()"
   ]
  },
  {
   "cell_type": "code",
   "execution_count": 4,
   "metadata": {
    "execution": {
     "iopub.execute_input": "2023-10-26T03:03:20.411260Z",
     "iopub.status.busy": "2023-10-26T03:03:20.410419Z",
     "iopub.status.idle": "2023-10-26T03:03:20.530756Z",
     "shell.execute_reply": "2023-10-26T03:03:20.529377Z"
    },
    "id": "KcCZquvEUD3A",
    "outputId": "a18d75ef-936b-4a52-8589-0acb2cc5fe4e",
    "papermill": {
     "duration": 0.133512,
     "end_time": "2023-10-26T03:03:20.533264",
     "exception": false,
     "start_time": "2023-10-26T03:03:20.399752",
     "status": "completed"
    },
    "tags": []
   },
   "outputs": [
    {
     "name": "stdout",
     "output_type": "stream",
     "text": [
      "<class 'pandas.core.frame.DataFrame'>\n",
      "RangeIndex: 284807 entries, 0 to 284806\n",
      "Data columns (total 31 columns):\n",
      " #   Column  Non-Null Count   Dtype  \n",
      "---  ------  --------------   -----  \n",
      " 0   Time    284807 non-null  float64\n",
      " 1   V1      284807 non-null  float64\n",
      " 2   V2      284807 non-null  float64\n",
      " 3   V3      284807 non-null  float64\n",
      " 4   V4      284807 non-null  float64\n",
      " 5   V5      284807 non-null  float64\n",
      " 6   V6      284807 non-null  float64\n",
      " 7   V7      284807 non-null  float64\n",
      " 8   V8      284807 non-null  float64\n",
      " 9   V9      284807 non-null  float64\n",
      " 10  V10     284807 non-null  float64\n",
      " 11  V11     284807 non-null  float64\n",
      " 12  V12     284807 non-null  float64\n",
      " 13  V13     284807 non-null  float64\n",
      " 14  V14     284807 non-null  float64\n",
      " 15  V15     284807 non-null  float64\n",
      " 16  V16     284807 non-null  float64\n",
      " 17  V17     284807 non-null  float64\n",
      " 18  V18     284807 non-null  float64\n",
      " 19  V19     284807 non-null  float64\n",
      " 20  V20     284807 non-null  float64\n",
      " 21  V21     284807 non-null  float64\n",
      " 22  V22     284807 non-null  float64\n",
      " 23  V23     284807 non-null  float64\n",
      " 24  V24     284807 non-null  float64\n",
      " 25  V25     284807 non-null  float64\n",
      " 26  V26     284807 non-null  float64\n",
      " 27  V27     284807 non-null  float64\n",
      " 28  V28     284807 non-null  float64\n",
      " 29  Amount  284807 non-null  float64\n",
      " 30  Class   284807 non-null  int64  \n",
      "dtypes: float64(30), int64(1)\n",
      "memory usage: 67.4 MB\n"
     ]
    }
   ],
   "source": [
    "# dataset informations\n",
    "credit_card_data.info()"
   ]
  },
  {
   "cell_type": "code",
   "execution_count": 5,
   "metadata": {
    "execution": {
     "iopub.execute_input": "2023-10-26T03:03:20.554746Z",
     "iopub.status.busy": "2023-10-26T03:03:20.554324Z",
     "iopub.status.idle": "2023-10-26T03:03:20.575790Z",
     "shell.execute_reply": "2023-10-26T03:03:20.574458Z"
    },
    "id": "XxwasmfKUQiA",
    "outputId": "a1cf3e15-9491-40f9-fecb-e5d1895bc8ca",
    "papermill": {
     "duration": 0.034637,
     "end_time": "2023-10-26T03:03:20.578148",
     "exception": false,
     "start_time": "2023-10-26T03:03:20.543511",
     "status": "completed"
    },
    "tags": []
   },
   "outputs": [
    {
     "data": {
      "text/plain": [
       "Time      0\n",
       "V1        0\n",
       "V2        0\n",
       "V3        0\n",
       "V4        0\n",
       "V5        0\n",
       "V6        0\n",
       "V7        0\n",
       "V8        0\n",
       "V9        0\n",
       "V10       0\n",
       "V11       0\n",
       "V12       0\n",
       "V13       0\n",
       "V14       0\n",
       "V15       0\n",
       "V16       0\n",
       "V17       0\n",
       "V18       0\n",
       "V19       0\n",
       "V20       0\n",
       "V21       0\n",
       "V22       0\n",
       "V23       0\n",
       "V24       0\n",
       "V25       0\n",
       "V26       0\n",
       "V27       0\n",
       "V28       0\n",
       "Amount    0\n",
       "Class     0\n",
       "dtype: int64"
      ]
     },
     "execution_count": 5,
     "metadata": {},
     "output_type": "execute_result"
    }
   ],
   "source": [
    "# checking the number of missing values in each column\n",
    "credit_card_data.isnull().sum()"
   ]
  },
  {
   "cell_type": "code",
   "execution_count": 6,
   "metadata": {
    "execution": {
     "iopub.execute_input": "2023-10-26T03:03:20.599308Z",
     "iopub.status.busy": "2023-10-26T03:03:20.598933Z",
     "iopub.status.idle": "2023-10-26T03:03:20.610560Z",
     "shell.execute_reply": "2023-10-26T03:03:20.609233Z"
    },
    "id": "EIpoKfp5Ugri",
    "outputId": "5150aa81-723c-424d-dcee-80f5c1e37a0f",
    "papermill": {
     "duration": 0.024724,
     "end_time": "2023-10-26T03:03:20.612724",
     "exception": false,
     "start_time": "2023-10-26T03:03:20.588000",
     "status": "completed"
    },
    "tags": []
   },
   "outputs": [
    {
     "data": {
      "text/plain": [
       "0    284315\n",
       "1       492\n",
       "Name: Class, dtype: int64"
      ]
     },
     "execution_count": 6,
     "metadata": {},
     "output_type": "execute_result"
    }
   ],
   "source": [
    "# distribution of legit transactions & fraudulent transactions\n",
    "credit_card_data['Class'].value_counts()"
   ]
  },
  {
   "cell_type": "markdown",
   "metadata": {
    "id": "flz_InK7VGri",
    "papermill": {
     "duration": 0.009377,
     "end_time": "2023-10-26T03:03:20.631929",
     "exception": false,
     "start_time": "2023-10-26T03:03:20.622552",
     "status": "completed"
    },
    "tags": []
   },
   "source": [
    "### This Dataset is highly unblanced"
   ]
  },
  {
   "cell_type": "markdown",
   "metadata": {
    "id": "4OlMhkHzVKMv",
    "papermill": {
     "duration": 0.009381,
     "end_time": "2023-10-26T03:03:20.651004",
     "exception": false,
     "start_time": "2023-10-26T03:03:20.641623",
     "status": "completed"
    },
    "tags": []
   },
   "source": [
    "0 --> Normal Transaction\n",
    "\n",
    "1 --> fraudulent transaction"
   ]
  },
  {
   "cell_type": "code",
   "execution_count": 16,
   "metadata": {},
   "outputs": [],
   "source": [
    "X = credit_card_data.drop(columns='Class', axis=1)\n",
    "y = credit_card_data['Class']"
   ]
  },
  {
   "cell_type": "code",
   "execution_count": 17,
   "metadata": {},
   "outputs": [],
   "source": [
    "X_train, X_test, y_train, y_test = train_test_split(X, y, test_size=0.2, stratify=y, random_state=2)"
   ]
  },
  {
   "cell_type": "code",
   "execution_count": 27,
   "metadata": {},
   "outputs": [],
   "source": [
    "from sklearn.preprocessing import StandardScaler\n",
    "\n",
    "scaler = StandardScaler()\n",
    "\n",
    "X_train_normalized = scaler.fit_transform(X_train)\n",
    "X_test_normalized = scaler.transform(X_test)"
   ]
  },
  {
   "cell_type": "code",
   "execution_count": 28,
   "metadata": {},
   "outputs": [],
   "source": [
    "#SMOTE\n",
    "from imblearn.over_sampling import SMOTE\n",
    "\n",
    "smote = SMOTE(random_state = 42)\n",
    "X_train_smote, y_train_smote = smote.fit_resample(X_train_normalized, y_train)"
   ]
  },
  {
   "cell_type": "code",
   "execution_count": 29,
   "metadata": {},
   "outputs": [
    {
     "name": "stdout",
     "output_type": "stream",
     "text": [
      "Positive Observations: 227451\n",
      "Negative Observations: 227451\n",
      "Shape of the training data: (454902, 30)\n"
     ]
    }
   ],
   "source": [
    "pos_count = y_train_smote[y_train_smote == 1].count()\n",
    "neg_count = y_train_smote[y_train_smote == 0].count()\n",
    "\n",
    "print(\"Positive Observations:\", pos_count)\n",
    "print(\"Negative Observations:\", neg_count)\n",
    "print(\"Shape of the training data:\", X_train_smote.shape)"
   ]
  },
  {
   "cell_type": "markdown",
   "metadata": {
    "id": "aowgjqbeZ7d1",
    "papermill": {
     "duration": 0.011435,
     "end_time": "2023-10-26T03:03:21.673962",
     "exception": false,
     "start_time": "2023-10-26T03:03:21.662527",
     "status": "completed"
    },
    "tags": []
   },
   "source": [
    "### Model Training"
   ]
  },
  {
   "cell_type": "markdown",
   "metadata": {
    "id": "i0NkjaxyZ96E",
    "papermill": {
     "duration": 0.011428,
     "end_time": "2023-10-26T03:03:21.697166",
     "exception": false,
     "start_time": "2023-10-26T03:03:21.685738",
     "status": "completed"
    },
    "tags": []
   },
   "source": [
    "### Logistic Regression"
   ]
  },
  {
   "cell_type": "code",
   "execution_count": 54,
   "metadata": {
    "execution": {
     "iopub.execute_input": "2023-10-26T03:03:21.722904Z",
     "iopub.status.busy": "2023-10-26T03:03:21.721842Z",
     "iopub.status.idle": "2023-10-26T03:03:21.726438Z",
     "shell.execute_reply": "2023-10-26T03:03:21.725660Z"
    },
    "id": "i0HHd1v8Z2Mq",
    "papermill": {
     "duration": 0.019463,
     "end_time": "2023-10-26T03:03:21.728374",
     "exception": false,
     "start_time": "2023-10-26T03:03:21.708911",
     "status": "completed"
    },
    "tags": []
   },
   "outputs": [],
   "source": [
    "model = LogisticRegression(solver='lbfgs', max_iter=100)"
   ]
  },
  {
   "cell_type": "code",
   "execution_count": 56,
   "metadata": {
    "execution": {
     "iopub.execute_input": "2023-10-26T03:03:21.753876Z",
     "iopub.status.busy": "2023-10-26T03:03:21.753443Z",
     "iopub.status.idle": "2023-10-26T03:03:21.813163Z",
     "shell.execute_reply": "2023-10-26T03:03:21.812069Z"
    },
    "id": "_rshSouvaGrv",
    "outputId": "bed2be43-222c-41ae-925c-ffac11b7cb52",
    "papermill": {
     "duration": 0.075691,
     "end_time": "2023-10-26T03:03:21.815855",
     "exception": false,
     "start_time": "2023-10-26T03:03:21.740164",
     "status": "completed"
    },
    "tags": []
   },
   "outputs": [
    {
     "name": "stdout",
     "output_type": "stream",
     "text": [
      "AUC Scores (5-fold Cross-Validation): [0.98865265 0.98884659 0.98887661 0.98883328 0.98864639]\n",
      "Average AUC: 0.9887711035570963\n",
      "\n",
      "Average Precision Scores (5-fold Cross-Validation): [0.98998355 0.99020741 0.99008265 0.99014768 0.98994982]\n",
      "Average Average Precision: 0.9900742219181222\n"
     ]
    }
   ],
   "source": [
    "# training the Logistic Regression Model with Training Data\n",
    "model.fit(X_train_smote, y_train_smote)\n",
    "\n",
    "scores = cross_validate(model, X_train_smote, y_train_smote, cv=5, scoring=['roc_auc', 'average_precision'])\n",
    "\n",
    "print(\"AUC Scores (5-fold Cross-Validation):\", scores['test_roc_auc'])\n",
    "print(\"Average AUC:\", scores['test_roc_auc'].mean())\n",
    "print(\"\\nAverage Precision Scores (5-fold Cross-Validation):\", scores['test_average_precision'])\n",
    "print(\"Average Average Precision:\", scores['test_average_precision'].mean())"
   ]
  },
  {
   "cell_type": "markdown",
   "metadata": {
    "id": "H9FYWyKjalvC",
    "papermill": {
     "duration": 0.02006,
     "end_time": "2023-10-26T03:03:21.856562",
     "exception": false,
     "start_time": "2023-10-26T03:03:21.836502",
     "status": "completed"
    },
    "tags": []
   },
   "source": [
    "### Model Evaluation"
   ]
  },
  {
   "cell_type": "markdown",
   "metadata": {
    "id": "O6O6kbwYaoxH",
    "papermill": {
     "duration": 0.020258,
     "end_time": "2023-10-26T03:03:21.897464",
     "exception": false,
     "start_time": "2023-10-26T03:03:21.877206",
     "status": "completed"
    },
    "tags": []
   },
   "source": [
    "Accuracy Score"
   ]
  },
  {
   "cell_type": "code",
   "execution_count": 38,
   "metadata": {
    "execution": {
     "iopub.execute_input": "2023-10-26T03:03:21.932935Z",
     "iopub.status.busy": "2023-10-26T03:03:21.932511Z",
     "iopub.status.idle": "2023-10-26T03:03:21.941585Z",
     "shell.execute_reply": "2023-10-26T03:03:21.940467Z"
    },
    "id": "pC2kCJhOaage",
    "papermill": {
     "duration": 0.02653,
     "end_time": "2023-10-26T03:03:21.944504",
     "exception": false,
     "start_time": "2023-10-26T03:03:21.917974",
     "status": "completed"
    },
    "tags": []
   },
   "outputs": [],
   "source": [
    "# accuracy on training data\n",
    "X_train_prediction = model.predict(X_train_smote)\n",
    "training_data_accuracy = accuracy_score(X_train_prediction, y_train_smote)"
   ]
  },
  {
   "cell_type": "code",
   "execution_count": 39,
   "metadata": {
    "execution": {
     "iopub.execute_input": "2023-10-26T03:03:21.989172Z",
     "iopub.status.busy": "2023-10-26T03:03:21.988501Z",
     "iopub.status.idle": "2023-10-26T03:03:21.996257Z",
     "shell.execute_reply": "2023-10-26T03:03:21.995104Z"
    },
    "id": "Ijq6gAevbDwm",
    "outputId": "00f7db4a-a96d-4ee8-f1ff-d9a925aabcbe",
    "papermill": {
     "duration": 0.034102,
     "end_time": "2023-10-26T03:03:21.999225",
     "exception": false,
     "start_time": "2023-10-26T03:03:21.965123",
     "status": "completed"
    },
    "tags": []
   },
   "outputs": [
    {
     "name": "stdout",
     "output_type": "stream",
     "text": [
      "Accuracy on Training data :  0.9443418582463915\n"
     ]
    }
   ],
   "source": [
    "print('Accuracy on Training data : ', training_data_accuracy)"
   ]
  },
  {
   "cell_type": "code",
   "execution_count": 40,
   "metadata": {
    "execution": {
     "iopub.execute_input": "2023-10-26T03:03:22.042810Z",
     "iopub.status.busy": "2023-10-26T03:03:22.042257Z",
     "iopub.status.idle": "2023-10-26T03:03:22.052717Z",
     "shell.execute_reply": "2023-10-26T03:03:22.051556Z"
    },
    "id": "tryJUs6mbJM7",
    "papermill": {
     "duration": 0.035555,
     "end_time": "2023-10-26T03:03:22.055666",
     "exception": false,
     "start_time": "2023-10-26T03:03:22.020111",
     "status": "completed"
    },
    "tags": []
   },
   "outputs": [
    {
     "name": "stderr",
     "output_type": "stream",
     "text": [
      "C:\\Users\\aksha\\anaconda3\\lib\\site-packages\\sklearn\\base.py:458: UserWarning: X has feature names, but LogisticRegression was fitted without feature names\n",
      "  warnings.warn(\n"
     ]
    }
   ],
   "source": [
    "# accuracy on test data\n",
    "X_test_prediction = model.predict(X_test)\n",
    "test_data_accuracy = accuracy_score(X_test_prediction, y_test)"
   ]
  },
  {
   "cell_type": "code",
   "execution_count": 41,
   "metadata": {
    "execution": {
     "iopub.execute_input": "2023-10-26T03:03:22.083463Z",
     "iopub.status.busy": "2023-10-26T03:03:22.082534Z",
     "iopub.status.idle": "2023-10-26T03:03:22.087854Z",
     "shell.execute_reply": "2023-10-26T03:03:22.086806Z"
    },
    "id": "lxEuN24ib3hS",
    "outputId": "b513f28a-352b-4ea1-aa4d-96a873ad6cca",
    "papermill": {
     "duration": 0.021555,
     "end_time": "2023-10-26T03:03:22.090802",
     "exception": false,
     "start_time": "2023-10-26T03:03:22.069247",
     "status": "completed"
    },
    "tags": []
   },
   "outputs": [
    {
     "name": "stdout",
     "output_type": "stream",
     "text": [
      "Accuracy score on Test Data :  0.9968048874688389\n"
     ]
    }
   ],
   "source": [
    "print('Accuracy score on Test Data : ', test_data_accuracy)"
   ]
  },
  {
   "cell_type": "markdown",
   "metadata": {},
   "source": [
    "### Decision Trees"
   ]
  },
  {
   "cell_type": "code",
   "execution_count": 43,
   "metadata": {},
   "outputs": [
    {
     "name": "stdout",
     "output_type": "stream",
     "text": [
      "AUC Scores (5-fold Cross-Validation): [0.99736833 0.99749091 0.99766827 0.99735092 0.9975794 ]\n",
      "Average AUC: 0.9974915652437509\n",
      "\n",
      "Average Precision Scores (5-fold Cross-Validation): [0.99629569 0.99661571 0.99643596 0.99626122 0.99659194]\n",
      "Average Average Precision: 0.9964401041056418\n"
     ]
    }
   ],
   "source": [
    "dt_classifier_smote = DecisionTreeClassifier(max_depth=10, random_state=42)\n",
    "dt_classifier_smote.fit(X_train_smote, y_train_smote)\n",
    "\n",
    "stratified_cv = StratifiedKFold(n_splits=5, shuffle=True, random_state=42)\n",
    "scores = cross_validate(dt_classifier_smote, X_train_smote, y_train_smote, cv=stratified_cv, scoring=['roc_auc', 'average_precision'])\n",
    "\n",
    "print(\"AUC Scores (5-fold Cross-Validation):\", scores['test_roc_auc'])\n",
    "print(\"Average AUC:\", scores['test_roc_auc'].mean())\n",
    "print(\"\\nAverage Precision Scores (5-fold Cross-Validation):\", scores['test_average_precision'])\n",
    "print(\"Average Average Precision:\", scores['test_average_precision'].mean())"
   ]
  },
  {
   "cell_type": "code",
   "execution_count": 44,
   "metadata": {},
   "outputs": [
    {
     "name": "stdout",
     "output_type": "stream",
     "text": [
      "SMOTE: 0.9095714766632595\n"
     ]
    }
   ],
   "source": [
    "from sklearn.metrics import roc_auc_score\n",
    "y_pred_smote = dt_classifier_smote.predict_proba(X_test_normalized)[:,1]\n",
    "auc_smote = roc_auc_score(y_test, y_pred_smote)\n",
    "print(\"SMOTE:\", auc_smote)"
   ]
  },
  {
   "cell_type": "code",
   "execution_count": 47,
   "metadata": {},
   "outputs": [
    {
     "name": "stdout",
     "output_type": "stream",
     "text": [
      "Confusion Matrix for SMOTE\n"
     ]
    },
    {
     "data": {
      "image/png": "[encoded data removed]",
      "text/plain": [
       "<Figure size 432x288 with 2 Axes>"
      ]
     },
     "metadata": {
      "needs_background": "light"
     },
     "output_type": "display_data"
    }
   ],
   "source": [
    "from sklearn.metrics import confusion_matrix, ConfusionMatrixDisplay\n",
    "import matplotlib.pyplot as plt\n",
    "\n",
    "print(\"Confusion Matrix for SMOTE\")\n",
    "cm = confusion_matrix(y_test, y_pred_smote>=0.5)\n",
    "disp = ConfusionMatrixDisplay(confusion_matrix=cm,\n",
    "                              display_labels=[\"Class 0\", \"Class 1\"])\n",
    "disp.plot()\n",
    "plt.show()"
   ]
  },
  {
   "cell_type": "code",
   "execution_count": 57,
   "metadata": {},
   "outputs": [
    {
     "data": {
      "image/png": "[encoded data removed]",
      "text/plain": [
       "<Figure size 720x432 with 1 Axes>"
      ]
     },
     "metadata": {
      "needs_background": "light"
     },
     "output_type": "display_data"
    }
   ],
   "source": [
    "from sklearn.metrics import roc_curve, roc_auc_score\n",
    "import matplotlib.pyplot as plt\n",
    "\n",
    "fprs = []\n",
    "tprs = []\n",
    "auc_scores = []\n",
    "\n",
    "models = [dt_classifier_smote, model]\n",
    "model_names = ['SMOTE', 'Model']\n",
    "\n",
    "plt.figure(figsize=(10, 6))\n",
    "\n",
    "for model in models:\n",
    "    y_pred_prob = model.predict_proba(X_test_normalized)[:, 1]\n",
    "    fpr, tpr, _ = roc_curve(y_test, y_pred_prob)\n",
    "    auc = roc_auc_score(y_test, y_pred_prob)\n",
    "    fprs.append(fpr)\n",
    "    tprs.append(tpr)\n",
    "    auc_scores.append(auc)\n",
    "\n",
    "for i in range(2):\n",
    "    plt.plot(fprs[i], tprs[i], label=f'{model_names[i]} (AUC = {auc_scores[i]:.2f})')\n",
    "\n",
    "plt.xlabel('False Positive Rate')\n",
    "plt.ylabel('True Positive Rate')\n",
    "plt.title('ROC Curve for Different Models')\n",
    "plt.legend()\n",
    "\n",
    "plt.show()"
   ]
  },
  {
   "cell_type": "code",
   "execution_count": null,
   "metadata": {},
   "outputs": [],
   "source": []
  }
 ],
 "metadata": {
  "kernelspec": {
   "display_name": "Python 3",
   "language": "python",
   "name": "python3"
  },
  "language_info": {
   "codemirror_mode": {
    "name": "ipython",
    "version": 3
   },
   "file_extension": ".py",
   "mimetype": "text/x-python",
   "name": "python",
   "nbconvert_exporter": "python",
   "pygments_lexer": "ipython3",
   "version": "3.8.3"
  },
  "papermill": {
   "default_parameters": {},
   "duration": 11.836261,
   "end_time": "2023-10-26T03:03:22.723119",
   "environment_variables": {},
   "exception": null,
   "input_path": "__notebook__.ipynb",
   "output_path": "__notebook__.ipynb",
   "parameters": {},
   "start_time": "2023-10-26T03:03:10.886858",
   "version": "2.4.0"
  }
 },
 "nbformat": 4,
 "nbformat_minor": 5
}
